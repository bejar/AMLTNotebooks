{
 "cells": [
  {
   "cell_type": "markdown",
   "metadata": {},
   "source": [
    "# Association Rules"
   ]
  },
  {
   "cell_type": "markdown",
   "metadata": {},
   "source": [
    "For this topic we are going to use the authors2 dataset (the authors1 dataset has simmilar results), we will transform to a set of transactions extracting the most frequent words for the dataset documents and then computing the transactions for each document as the frequent words that apear in it. You can increase the number of words to be used, but more words do not usually means more itemsets, because they will be less frequent and the probability of being associated to other words will be lower."
   ]
  },
  {
   "cell_type": "code",
   "execution_count": 9,
   "metadata": {
    "collapsed": true
   },
   "outputs": [],
   "source": [
    "from sklearn.feature_extraction.text import CountVectorizer\n",
    "from os import listdir\n",
    "from os.path import join\n",
    "from fim import fpgrowth\n",
    "import matplotlib.pyplot as plt\n",
    "from pylab import *\n",
    "%matplotlib inline\n",
    "\n",
    "docpath = '/home/bejar/Data/authors/Auth2/'\n",
    "docs = sorted(listdir(docpath))[1:]\n",
    "pdocs = [join(docpath, f) for f in docs]\n",
    "nfeatures = 100\n",
    "cvec = CountVectorizer(input='filename', stop_words='english', max_features=nfeatures)\n",
    "authors = cvec.fit_transform(pdocs)\n",
    "\n",
    "lwords = [\"\"] * len(cvec.vocabulary_)\n",
    "for w in cvec.vocabulary_:\n",
    "    lwords[cvec.vocabulary_[w]] = w\n",
    "\n",
    "ldocs = []\n",
    "for j in range(authors.shape[0]):\n",
    "    doc = []\n",
    "    for i in range(authors.shape[1]):\n",
    "        if authors[j,i] != 0:\n",
    "            doc.append(lwords[i])\n",
    "    ldocs.append(doc)"
   ]
  },
  {
   "cell_type": "markdown",
   "metadata": {},
   "source": [
    "This is what the transactions of the first three documents look like"
   ]
  },
  {
   "cell_type": "code",
   "execution_count": 10,
   "metadata": {
    "collapsed": false
   },
   "outputs": [
    {
     "name": "stdout",
     "output_type": "stream",
     "text": [
      "['away', 'day', 'dear', 'did', 'far', 'father', 'friend', 'gave', 'good', 'having', 'head', 'house', 'lady', 'little', 'make', 'man', 'mind', 'mr', 'right', 'said', 'shall', 'think', 'time']\n",
      "['did', 'far', 'felt', 'heard', 'know', 'lady', 'life', 'little', 'long', 'look', 'man', 'mr', 'night', 'room', 'said', 'shall', 'soon', 'taken', 'woman', 'young']\n",
      "['asked', 'began', 'course', 'day', 'did', 'far', 'great', 'heard', 'just', 'knew', 'know', 'lady', 'little', 'long', 'make', 'man', 'mr', 'poor', 'replied', 'round', 'said', 'say', 'seen', 'soon', 'table', 'things', 'thought', 'took', 'voice', 'woman', 'years']\n"
     ]
    }
   ],
   "source": [
    "print(ldocs[0])\n",
    "print(ldocs[1])\n",
    "print(ldocs[2])"
   ]
  },
  {
   "cell_type": "markdown",
   "metadata": {},
   "source": [
    "Now we are going to apply the **apriori** and **fp-growth** algorithms for obtaining association rules from these transactions. We are going to use the implementation that is in the library PyFIM (http://www.borgelt.net/pyfim.html), you can find also other association rules algorithms implemented."
   ]
  },
  {
   "cell_type": "markdown",
   "metadata": {},
   "source": [
    "First we apply **FP-Growth** for finding all the itemsets with a support larger than 10%. You can play with the support and see how many frequeny itemsets you get, but be careful, for values less than 10% and this dataset, even for 100 words, the number of possibilities explode and you will get out of memory."
   ]
  },
  {
   "cell_type": "code",
   "execution_count": 11,
   "metadata": {
    "collapsed": false
   },
   "outputs": [
    {
     "name": "stdout",
     "output_type": "stream",
     "text": [
      "CPU times: user 1.03 s, sys: 44.3 ms, total: 1.08 s\n",
      "Wall time: 1.07 s\n"
     ]
    }
   ],
   "source": [
    "from fim import fpgrowth, apriori\n",
    "\n",
    "%time res = fpgrowth(ldocs, target='s', supp=10, zmin=1, report='ae', eval='c')"
   ]
  },
  {
   "cell_type": "markdown",
   "metadata": {},
   "source": [
    "The total number of itemsets for a suport of 10% is the following"
   ]
  },
  {
   "cell_type": "code",
   "execution_count": 12,
   "metadata": {
    "collapsed": false
   },
   "outputs": [
    {
     "name": "stdout",
     "output_type": "stream",
     "text": [
      "765480\n"
     ]
    }
   ],
   "source": [
    "print(len(res))"
   ]
  },
  {
   "cell_type": "markdown",
   "metadata": {},
   "source": [
    "These are some of the itemsets that are found"
   ]
  },
  {
   "cell_type": "code",
   "execution_count": 13,
   "metadata": {
    "collapsed": false
   },
   "outputs": [
    {
     "name": "stdout",
     "output_type": "stream",
     "text": [
      "(('time', 'said'), (270, 0.8181818181818182))\n",
      "(('like', 'said'), (262, 0.808641975308642))\n",
      "(('like', 'time'), (245, 0.7561728395061729))\n",
      "(('like', 'time', 'said'), (197, 0.8040816326530612))\n",
      "(('man', 'said'), (261, 0.8446601941747572))\n",
      "(('man', 'time'), (231, 0.7475728155339806))\n",
      "(('man', 'time', 'said'), (194, 0.8398268398268398))\n",
      "(('man', 'like'), (230, 0.7443365695792881))\n",
      "(('man', 'like', 'said'), (190, 0.8260869565217391))\n",
      "(('man', 'like', 'time'), (176, 0.7652173913043478))\n"
     ]
    }
   ],
   "source": [
    "for i in range(10):\n",
    "    print(res[i])"
   ]
  },
  {
   "cell_type": "markdown",
   "metadata": {},
   "source": [
    "Now for **apriori**"
   ]
  },
  {
   "cell_type": "code",
   "execution_count": 6,
   "metadata": {
    "collapsed": false
   },
   "outputs": [
    {
     "name": "stdout",
     "output_type": "stream",
     "text": [
      "CPU times: user 627 ms, sys: 38.3 ms, total: 665 ms\n",
      "Wall time: 660 ms\n",
      "289599\n"
     ]
    }
   ],
   "source": [
    "%time res = apriori(ldocs, target='s', supp=10, zmin=1, report='ae', eval='c')\n",
    "\n",
    "print(len(res))"
   ]
  },
  {
   "cell_type": "markdown",
   "metadata": {},
   "source": [
    "And as expected, the number of itemsets found is exactly the same"
   ]
  },
  {
   "cell_type": "markdown",
   "metadata": {},
   "source": [
    "Computing the frequent itemsets with growing support we can also see that the actual number of itemsets descends exponentially with the support. Is important to have in mind that we will have always an exponential number of possible itemsets ($2^n$), but the actual number depends on how items are associated in our data and the level of support."
   ]
  },
  {
   "cell_type": "code",
   "execution_count": 7,
   "metadata": {
    "collapsed": false
   },
   "outputs": [
    {
     "data": {
      "text/plain": [
       "[<matplotlib.lines.Line2D at 0x7f3330bd0be0>]"
      ]
     },
     "execution_count": 7,
     "metadata": {},
     "output_type": "execute_result"
    },
    {
     "data": {
      "image/png": "[encoded data removed]",
      "text/plain": [
       "<matplotlib.figure.Figure at 0x7f3332121908>"
      ]
     },
     "metadata": {},
     "output_type": "display_data"
    }
   ],
   "source": [
    "nitsets = []\n",
    "for sup in range(15, 51, 5):\n",
    "    res = fpgrowth(ldocs, target='s', supp=sup, zmin=1, report='ae', eval='c')\n",
    "    nitsets.append(len(res))\n",
    "    \n",
    "fig = plt.figure(figsize=(15,5))\n",
    "ax = fig.add_subplot(111)\n",
    "plt.plot(range(15, 51, 5), nitsets)"
   ]
  },
  {
   "cell_type": "markdown",
   "metadata": {},
   "source": [
    "We can also run both algorithms for the same support and check that, as expected, the **fp-growth** algorithm is more efficient when the number of itemsets to explore is large."
   ]
  },
  {
   "cell_type": "code",
   "execution_count": 8,
   "metadata": {
    "collapsed": false
   },
   "outputs": [
    {
     "data": {
      "text/plain": [
       "[<matplotlib.lines.Line2D at 0x7f332fced9e8>]"
      ]
     },
     "execution_count": 8,
     "metadata": {},
     "output_type": "execute_result"
    },
    {
     "data": {
      "image/png": "[encoded data removed]",
      "text/plain": [
       "<matplotlib.figure.Figure at 0x7f332fdc6358>"
      ]
     },
     "metadata": {},
     "output_type": "display_data"
    }
   ],
   "source": [
    "import time\n",
    "\n",
    "\n",
    "ltimesfp = []\n",
    "ltimesap = []\n",
    "for sup in range(10, 51, 5):\n",
    "    itime = time.perf_counter()\n",
    "    res = fpgrowth(ldocs, target='s', supp=sup, zmin=1, report='ae', eval='c')\n",
    "    etime = time.perf_counter()\n",
    "    ltimesfp.append(etime-itime)\n",
    "    itime = time.perf_counter()\n",
    "    res = apriori(ldocs, target='s', supp=sup, zmin=1, report='ae', eval='c')\n",
    "    etime = time.perf_counter()\n",
    "    ltimesap.append(etime-itime)\n",
    "\n",
    "fig = plt.figure(figsize=(15,5))\n",
    "ax = fig.add_subplot(111)\n",
    "plt.plot(range(10, 51, 5), ltimesfp, 'r')\n",
    "plt.plot(range(10, 51, 5), ltimesap, 'b')"
   ]
  },
  {
   "cell_type": "code",
   "execution_count": null,
   "metadata": {
    "collapsed": true
   },
   "outputs": [],
   "source": []
  }
 ],
 "metadata": {
  "kernelspec": {
   "display_name": "Python 3",
   "language": "python",
   "name": "python3"
  },
  "language_info": {
   "codemirror_mode": {
    "name": "ipython",
    "version": 3
   },
   "file_extension": ".py",
   "mimetype": "text/x-python",
   "name": "python",
   "nbconvert_exporter": "python",
   "pygments_lexer": "ipython3",
   "version": "3.4.3"
  },
  "name": ""
 },
 "nbformat": 4,
 "nbformat_minor": 0
}
